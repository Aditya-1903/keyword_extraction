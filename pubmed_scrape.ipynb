{
  "nbformat": 4,
  "nbformat_minor": 0,
  "metadata": {
    "colab": {
      "provenance": []
    },
    "kernelspec": {
      "name": "python3",
      "display_name": "Python 3"
    },
    "language_info": {
      "name": "python"
    }
  },
  "cells": [
    {
      "cell_type": "code",
      "source": [
        "pip install biopython"
      ],
      "metadata": {
        "colab": {
          "base_uri": "https://localhost:8080/"
        },
        "id": "13Z_2EHisIZd",
        "outputId": "77704d44-040c-427a-8450-4122b5492c68"
      },
      "execution_count": null,
      "outputs": [
        {
          "output_type": "stream",
          "name": "stdout",
          "text": [
            "Collecting biopython\n",
            "  Downloading biopython-1.83-cp310-cp310-manylinux_2_17_x86_64.manylinux2014_x86_64.whl (3.1 MB)\n",
            "\u001b[2K     \u001b[90m━━━━━━━━━━━━━━━━━━━━━━━━━━━━━━━━━━━━━━━━\u001b[0m \u001b[32m3.1/3.1 MB\u001b[0m \u001b[31m8.8 MB/s\u001b[0m eta \u001b[36m0:00:00\u001b[0m\n",
            "\u001b[?25hRequirement already satisfied: numpy in /usr/local/lib/python3.10/dist-packages (from biopython) (1.25.2)\n",
            "Installing collected packages: biopython\n",
            "Successfully installed biopython-1.83\n"
          ]
        }
      ]
    },
    {
      "cell_type": "code",
      "source": [
        "import warnings\n",
        "warnings.filterwarnings(\"ignore\")"
      ],
      "metadata": {
        "id": "TaL6MDkQHwya"
      },
      "execution_count": null,
      "outputs": []
    },
    {
      "cell_type": "code",
      "source": [
        "file = open('ids.txt', 'r')\n",
        "ids = file.readlines()\n",
        "\n",
        "pmids = []\n",
        "for pmc in ids:\n",
        "  pmid = pmc.strip()\n",
        "  pmids.append(pmid)\n",
        "\n",
        "len(pmids)\n"
      ],
      "metadata": {
        "colab": {
          "base_uri": "https://localhost:8080/"
        },
        "id": "Du1GDttt3-2Z",
        "outputId": "a5559aa1-7bec-4e7a-8936-811a972e1119"
      },
      "execution_count": null,
      "outputs": [
        {
          "output_type": "execute_result",
          "data": {
            "text/plain": [
              "10000"
            ]
          },
          "metadata": {},
          "execution_count": 3
        }
      ]
    },
    {
      "cell_type": "code",
      "source": [
        "pmids = pmids[:2000]"
      ],
      "metadata": {
        "id": "raIuD-jUNvrf"
      },
      "execution_count": null,
      "outputs": []
    },
    {
      "cell_type": "code",
      "source": [
        "import time\n",
        "import pandas as pd\n",
        "import string\n",
        "from Bio import Entrez\n",
        "\n",
        "# Function to fetch paper details\n",
        "def fetch_paper_details(pmid):\n",
        "    handle = Entrez.efetch(db=\"pubmed\", id=pmid)\n",
        "    record = Entrez.read(handle)\n",
        "    handle.close()\n",
        "    return record\n",
        "\n",
        "# Initialize empty lists to store data\n",
        "titles = []\n",
        "abstracts = []\n",
        "author_keywords = []\n",
        "\n",
        "# Assuming pmids is a list of PubMed IDs\n",
        "for pmid in pmids:\n",
        "    record = fetch_paper_details(pmid)\n",
        "\n",
        "    try:\n",
        "        paper_title = record['PubmedArticle'][0]['MedlineCitation']['Article']['ArticleTitle']\n",
        "\n",
        "        paper_abstract = ''\n",
        "        abstract_record = record['PubmedArticle'][0]['MedlineCitation']['Article']['Abstract']['AbstractText']\n",
        "        abs_n = len(abstract_record)\n",
        "        for i in range(abs_n):\n",
        "            paper_abstract += abstract_record[i]\n",
        "\n",
        "        keywords_list = record['PubmedArticle'][0]['MedlineCitation']['KeywordList'][0]\n",
        "        paper_keywords = ''\n",
        "        key_n = len(keywords_list)\n",
        "        for i in range(key_n):\n",
        "          paper_keywords += f'{keywords_list[i]},'\n",
        "\n",
        "        paper_keywords_list = paper_keywords.split(',')\n",
        "        paper_keywords_list = [keyword.strip().translate(str.maketrans('', '', string.punctuation)) for keyword in paper_keywords_list if keyword.strip()]\n",
        "\n",
        "        if paper_title and paper_abstract and paper_keywords_list:\n",
        "          titles.append(paper_title)\n",
        "          abstracts.append(paper_abstract)\n",
        "          author_keywords.append(paper_keywords_list)\n",
        "\n",
        "    except Exception as e:\n",
        "        continue\n",
        "\n",
        "    time.sleep(1)"
      ],
      "metadata": {
        "id": "prdriW2xvOA0"
      },
      "execution_count": null,
      "outputs": []
    },
    {
      "cell_type": "code",
      "source": [
        "data = {'title': titles, 'abstract': abstracts, 'author_keywords': author_keywords}\n",
        "df = pd.DataFrame(data)\n",
        "\n",
        "df.head()"
      ],
      "metadata": {
        "colab": {
          "base_uri": "https://localhost:8080/",
          "height": 206
        },
        "id": "fQoE4MULwJat",
        "outputId": "0ae8635a-ce51-4f71-bb1c-839a67216a7b"
      },
      "execution_count": null,
      "outputs": [
        {
          "output_type": "execute_result",
          "data": {
            "text/plain": [
              "                                               title  \\\n",
              "0  Exercise and other non-pharmaceutical interven...   \n",
              "1  Effectiveness of conservative interventions in...   \n",
              "2  Effectiveness of myopia control interventions:...   \n",
              "3  Causal relationships between gut microbiota an...   \n",
              "4  Prevention of hypotension after spinal anaesth...   \n",
              "\n",
              "                                            abstract  \\\n",
              "0  To assess the relative effects of different ty...   \n",
              "1  To investigate the effectiveness of conservati...   \n",
              "2  This study aims to investigate the effectivene...   \n",
              "3  Multiple clinical studies have indicated that ...   \n",
              "4  Spinal anaesthesia for caesarean section commo...   \n",
              "\n",
              "                                     author_keywords  \n",
              "0  [cancer related fatigue, exercise, indirect co...  \n",
              "1  [Conservative, MetaAnalysis, Pain, Shoulder Im...  \n",
              "2  [axial length, efficacy, elongation, myopia, p...  \n",
              "3  [PD1PDL1, bidirectional Mendelian randomizatio...  \n",
              "4  [anaesthesia, spinal, caesarean section, hypot...  "
            ],
            "text/html": [
              "\n",
              "  <div id=\"df-b9f7ad77-40c3-4ffd-8a50-9a13d6685c05\" class=\"colab-df-container\">\n",
              "    <div>\n",
              "<style scoped>\n",
              "    .dataframe tbody tr th:only-of-type {\n",
              "        vertical-align: middle;\n",
              "    }\n",
              "\n",
              "    .dataframe tbody tr th {\n",
              "        vertical-align: top;\n",
              "    }\n",
              "\n",
              "    .dataframe thead th {\n",
              "        text-align: right;\n",
              "    }\n",
              "</style>\n",
              "<table border=\"1\" class=\"dataframe\">\n",
              "  <thead>\n",
              "    <tr style=\"text-align: right;\">\n",
              "      <th></th>\n",
              "      <th>title</th>\n",
              "      <th>abstract</th>\n",
              "      <th>author_keywords</th>\n",
              "    </tr>\n",
              "  </thead>\n",
              "  <tbody>\n",
              "    <tr>\n",
              "      <th>0</th>\n",
              "      <td>Exercise and other non-pharmaceutical interven...</td>\n",
              "      <td>To assess the relative effects of different ty...</td>\n",
              "      <td>[cancer related fatigue, exercise, indirect co...</td>\n",
              "    </tr>\n",
              "    <tr>\n",
              "      <th>1</th>\n",
              "      <td>Effectiveness of conservative interventions in...</td>\n",
              "      <td>To investigate the effectiveness of conservati...</td>\n",
              "      <td>[Conservative, MetaAnalysis, Pain, Shoulder Im...</td>\n",
              "    </tr>\n",
              "    <tr>\n",
              "      <th>2</th>\n",
              "      <td>Effectiveness of myopia control interventions:...</td>\n",
              "      <td>This study aims to investigate the effectivene...</td>\n",
              "      <td>[axial length, efficacy, elongation, myopia, p...</td>\n",
              "    </tr>\n",
              "    <tr>\n",
              "      <th>3</th>\n",
              "      <td>Causal relationships between gut microbiota an...</td>\n",
              "      <td>Multiple clinical studies have indicated that ...</td>\n",
              "      <td>[PD1PDL1, bidirectional Mendelian randomizatio...</td>\n",
              "    </tr>\n",
              "    <tr>\n",
              "      <th>4</th>\n",
              "      <td>Prevention of hypotension after spinal anaesth...</td>\n",
              "      <td>Spinal anaesthesia for caesarean section commo...</td>\n",
              "      <td>[anaesthesia, spinal, caesarean section, hypot...</td>\n",
              "    </tr>\n",
              "  </tbody>\n",
              "</table>\n",
              "</div>\n",
              "    <div class=\"colab-df-buttons\">\n",
              "\n",
              "  <div class=\"colab-df-container\">\n",
              "    <button class=\"colab-df-convert\" onclick=\"convertToInteractive('df-b9f7ad77-40c3-4ffd-8a50-9a13d6685c05')\"\n",
              "            title=\"Convert this dataframe to an interactive table.\"\n",
              "            style=\"display:none;\">\n",
              "\n",
              "  <svg xmlns=\"http://www.w3.org/2000/svg\" height=\"24px\" viewBox=\"0 -960 960 960\">\n",
              "    <path d=\"M120-120v-720h720v720H120Zm60-500h600v-160H180v160Zm220 220h160v-160H400v160Zm0 220h160v-160H400v160ZM180-400h160v-160H180v160Zm440 0h160v-160H620v160ZM180-180h160v-160H180v160Zm440 0h160v-160H620v160Z\"/>\n",
              "  </svg>\n",
              "    </button>\n",
              "\n",
              "  <style>\n",
              "    .colab-df-container {\n",
              "      display:flex;\n",
              "      gap: 12px;\n",
              "    }\n",
              "\n",
              "    .colab-df-convert {\n",
              "      background-color: #E8F0FE;\n",
              "      border: none;\n",
              "      border-radius: 50%;\n",
              "      cursor: pointer;\n",
              "      display: none;\n",
              "      fill: #1967D2;\n",
              "      height: 32px;\n",
              "      padding: 0 0 0 0;\n",
              "      width: 32px;\n",
              "    }\n",
              "\n",
              "    .colab-df-convert:hover {\n",
              "      background-color: #E2EBFA;\n",
              "      box-shadow: 0px 1px 2px rgba(60, 64, 67, 0.3), 0px 1px 3px 1px rgba(60, 64, 67, 0.15);\n",
              "      fill: #174EA6;\n",
              "    }\n",
              "\n",
              "    .colab-df-buttons div {\n",
              "      margin-bottom: 4px;\n",
              "    }\n",
              "\n",
              "    [theme=dark] .colab-df-convert {\n",
              "      background-color: #3B4455;\n",
              "      fill: #D2E3FC;\n",
              "    }\n",
              "\n",
              "    [theme=dark] .colab-df-convert:hover {\n",
              "      background-color: #434B5C;\n",
              "      box-shadow: 0px 1px 3px 1px rgba(0, 0, 0, 0.15);\n",
              "      filter: drop-shadow(0px 1px 2px rgba(0, 0, 0, 0.3));\n",
              "      fill: #FFFFFF;\n",
              "    }\n",
              "  </style>\n",
              "\n",
              "    <script>\n",
              "      const buttonEl =\n",
              "        document.querySelector('#df-b9f7ad77-40c3-4ffd-8a50-9a13d6685c05 button.colab-df-convert');\n",
              "      buttonEl.style.display =\n",
              "        google.colab.kernel.accessAllowed ? 'block' : 'none';\n",
              "\n",
              "      async function convertToInteractive(key) {\n",
              "        const element = document.querySelector('#df-b9f7ad77-40c3-4ffd-8a50-9a13d6685c05');\n",
              "        const dataTable =\n",
              "          await google.colab.kernel.invokeFunction('convertToInteractive',\n",
              "                                                    [key], {});\n",
              "        if (!dataTable) return;\n",
              "\n",
              "        const docLinkHtml = 'Like what you see? Visit the ' +\n",
              "          '<a target=\"_blank\" href=https://colab.research.google.com/notebooks/data_table.ipynb>data table notebook</a>'\n",
              "          + ' to learn more about interactive tables.';\n",
              "        element.innerHTML = '';\n",
              "        dataTable['output_type'] = 'display_data';\n",
              "        await google.colab.output.renderOutput(dataTable, element);\n",
              "        const docLink = document.createElement('div');\n",
              "        docLink.innerHTML = docLinkHtml;\n",
              "        element.appendChild(docLink);\n",
              "      }\n",
              "    </script>\n",
              "  </div>\n",
              "\n",
              "\n",
              "<div id=\"df-e2e962ce-8281-45f8-84a3-716d89eb4bf1\">\n",
              "  <button class=\"colab-df-quickchart\" onclick=\"quickchart('df-e2e962ce-8281-45f8-84a3-716d89eb4bf1')\"\n",
              "            title=\"Suggest charts\"\n",
              "            style=\"display:none;\">\n",
              "\n",
              "<svg xmlns=\"http://www.w3.org/2000/svg\" height=\"24px\"viewBox=\"0 0 24 24\"\n",
              "     width=\"24px\">\n",
              "    <g>\n",
              "        <path d=\"M19 3H5c-1.1 0-2 .9-2 2v14c0 1.1.9 2 2 2h14c1.1 0 2-.9 2-2V5c0-1.1-.9-2-2-2zM9 17H7v-7h2v7zm4 0h-2V7h2v10zm4 0h-2v-4h2v4z\"/>\n",
              "    </g>\n",
              "</svg>\n",
              "  </button>\n",
              "\n",
              "<style>\n",
              "  .colab-df-quickchart {\n",
              "      --bg-color: #E8F0FE;\n",
              "      --fill-color: #1967D2;\n",
              "      --hover-bg-color: #E2EBFA;\n",
              "      --hover-fill-color: #174EA6;\n",
              "      --disabled-fill-color: #AAA;\n",
              "      --disabled-bg-color: #DDD;\n",
              "  }\n",
              "\n",
              "  [theme=dark] .colab-df-quickchart {\n",
              "      --bg-color: #3B4455;\n",
              "      --fill-color: #D2E3FC;\n",
              "      --hover-bg-color: #434B5C;\n",
              "      --hover-fill-color: #FFFFFF;\n",
              "      --disabled-bg-color: #3B4455;\n",
              "      --disabled-fill-color: #666;\n",
              "  }\n",
              "\n",
              "  .colab-df-quickchart {\n",
              "    background-color: var(--bg-color);\n",
              "    border: none;\n",
              "    border-radius: 50%;\n",
              "    cursor: pointer;\n",
              "    display: none;\n",
              "    fill: var(--fill-color);\n",
              "    height: 32px;\n",
              "    padding: 0;\n",
              "    width: 32px;\n",
              "  }\n",
              "\n",
              "  .colab-df-quickchart:hover {\n",
              "    background-color: var(--hover-bg-color);\n",
              "    box-shadow: 0 1px 2px rgba(60, 64, 67, 0.3), 0 1px 3px 1px rgba(60, 64, 67, 0.15);\n",
              "    fill: var(--button-hover-fill-color);\n",
              "  }\n",
              "\n",
              "  .colab-df-quickchart-complete:disabled,\n",
              "  .colab-df-quickchart-complete:disabled:hover {\n",
              "    background-color: var(--disabled-bg-color);\n",
              "    fill: var(--disabled-fill-color);\n",
              "    box-shadow: none;\n",
              "  }\n",
              "\n",
              "  .colab-df-spinner {\n",
              "    border: 2px solid var(--fill-color);\n",
              "    border-color: transparent;\n",
              "    border-bottom-color: var(--fill-color);\n",
              "    animation:\n",
              "      spin 1s steps(1) infinite;\n",
              "  }\n",
              "\n",
              "  @keyframes spin {\n",
              "    0% {\n",
              "      border-color: transparent;\n",
              "      border-bottom-color: var(--fill-color);\n",
              "      border-left-color: var(--fill-color);\n",
              "    }\n",
              "    20% {\n",
              "      border-color: transparent;\n",
              "      border-left-color: var(--fill-color);\n",
              "      border-top-color: var(--fill-color);\n",
              "    }\n",
              "    30% {\n",
              "      border-color: transparent;\n",
              "      border-left-color: var(--fill-color);\n",
              "      border-top-color: var(--fill-color);\n",
              "      border-right-color: var(--fill-color);\n",
              "    }\n",
              "    40% {\n",
              "      border-color: transparent;\n",
              "      border-right-color: var(--fill-color);\n",
              "      border-top-color: var(--fill-color);\n",
              "    }\n",
              "    60% {\n",
              "      border-color: transparent;\n",
              "      border-right-color: var(--fill-color);\n",
              "    }\n",
              "    80% {\n",
              "      border-color: transparent;\n",
              "      border-right-color: var(--fill-color);\n",
              "      border-bottom-color: var(--fill-color);\n",
              "    }\n",
              "    90% {\n",
              "      border-color: transparent;\n",
              "      border-bottom-color: var(--fill-color);\n",
              "    }\n",
              "  }\n",
              "</style>\n",
              "\n",
              "  <script>\n",
              "    async function quickchart(key) {\n",
              "      const quickchartButtonEl =\n",
              "        document.querySelector('#' + key + ' button');\n",
              "      quickchartButtonEl.disabled = true;  // To prevent multiple clicks.\n",
              "      quickchartButtonEl.classList.add('colab-df-spinner');\n",
              "      try {\n",
              "        const charts = await google.colab.kernel.invokeFunction(\n",
              "            'suggestCharts', [key], {});\n",
              "      } catch (error) {\n",
              "        console.error('Error during call to suggestCharts:', error);\n",
              "      }\n",
              "      quickchartButtonEl.classList.remove('colab-df-spinner');\n",
              "      quickchartButtonEl.classList.add('colab-df-quickchart-complete');\n",
              "    }\n",
              "    (() => {\n",
              "      let quickchartButtonEl =\n",
              "        document.querySelector('#df-e2e962ce-8281-45f8-84a3-716d89eb4bf1 button');\n",
              "      quickchartButtonEl.style.display =\n",
              "        google.colab.kernel.accessAllowed ? 'block' : 'none';\n",
              "    })();\n",
              "  </script>\n",
              "</div>\n",
              "    </div>\n",
              "  </div>\n"
            ],
            "application/vnd.google.colaboratory.intrinsic+json": {
              "type": "dataframe",
              "variable_name": "df",
              "summary": "{\n  \"name\": \"df\",\n  \"rows\": 1193,\n  \"fields\": [\n    {\n      \"column\": \"title\",\n      \"properties\": {\n        \"dtype\": \"string\",\n        \"num_unique_values\": 1191,\n        \"samples\": [\n          \"Exercise-Based Interventions in Hemodialysis Patients: A Systematic Review with a Meta-Analysis of Randomized Controlled Trials.\",\n          \"Staging achilles tendinopathy using ultrasound imaging: the development and investigation of a new ultrasound imaging criteria based on the continuum model of tendon pathology.\",\n          \"Color light-emitting diode reflection topography: validation of keratometric repeatability in a large sample of wide cylindrical-range corneas.\"\n        ],\n        \"semantic_type\": \"\",\n        \"description\": \"\"\n      }\n    },\n    {\n      \"column\": \"abstract\",\n      \"properties\": {\n        \"dtype\": \"string\",\n        \"num_unique_values\": 1192,\n        \"samples\": [\n          \"Prior research highlights the role of efficacy, vaccine safety, and availability in vaccine hesitancy. Research is needed to better understand the political driving forces behind COVID-19 vaccine uptake. We examine the effects of the origin of a vaccine, and approval status within the EU on vaccine choice. We also test if these effects differ by party affiliation among Hungarians.We use a conjoint experimental design to assess multiple causal relationships. Respondents choose between two hypothetical vaccine profiles randomly generated from 10 attributes. The data were gathered from an online panel in September 2022. We applied a quota for vaccination status and party preference. Three hundred twenty-four respondents evaluated 3888 randomly generated vaccine profiles.We analyse the data using an OLS estimator with standard errors clustered by respondents. To further nuance our results, we test for task, profile, and treatment heterogeneity effects.By origin, respondents prefer German (MM 0.55; 95% CI 0.52-0.58) and Hungarian (0.55; 0.52-0.59) vaccines over US (0.49; 0.45-0.52) and Chinese vaccines (0.44; 0.41-0.47). By approval status, vaccines approved by the EU (0.55, 0.52-0.57) or pending authorization (0.5, 0.48-0.53) are preferred over unauthorised ones (0.45, 0.43-0.47). Both effects are conditional on party affiliation. Government voters especially prefer Hungarian vaccines (0.6; 0.55-0.65) over others.The complexity of vaccination decisions calls for the usage of information shortcuts. Our findings demonstrate a strong political component that motivates vaccine choice. We demonstrate that politics and ideology have broken into fields of individual-level decisions such as health.\",\n          \"To develop a standardised ultrasound imaging (USI)-based criteria for the diagnosis of tendinopathy that aligns with the continuum model of tendon pathology. Secondary aims were to assess both the intra-rater and inter-rater reliability of the criteria.A criteria was developed following a face validity assessment and a total of 31 Achilles tendon ultrasound images were analysed. Intra-rater and inter-rater reliability were assessed for overall tendinopathy stage (normal, reactive/early dysrepair or late dysrepair/degenerative) as well as for individual parameters (thickness, echogenicity and vascularity). Quadratic weighted kappa (k<sub>w</sub>) was used to report on reliability.Intra-rater reliability was 'substantial' for overall tendinopathy staging (k<sub>w</sub> rater A; 0.77, 95%\\u2009CI 0.59 to 0.94, rater B; 0.70, 95%\\u2009CI 0.52 to 0.89) and ranged from 'substantial' to 'almost perfect' for thickness (k<sub>w</sub> rater A; 0.75, 95%\\u2009CI 0.59 to 0.90, rater B; 0.84, 95%\\u2009CI 0.71 to 0.98), echogenicity (k<sub>w</sub> rater A; 0.78, 95%\\u2009CI 0.62 to 0.95, rater B; 0.73, 95%\\u2009CI 0.58 to 0.89) and vascularity (k<sub>w</sub> rater A; 0.86, 95%\\u2009CI 0.74 to 0.98, rater B; 0.89, 95%\\u2009CI 0.79 to 0.99). Inter-rater reliability ranged from 'substantial' to 'almost perfect' for overall tendinopathy staging (k<sub>w</sub> round 1; 0.75, 95%\\u2009CI 0.58 to 0.91, round 2; 0.81, 95%\\u2009CI 0.63 to 0.99), thickness (k<sub>w</sub> round 1; 0.65, 95%\\u2009CI 0.48 to 0.83, round 2; 0.77, 95%\\u2009CI 0.60 to 0.93), echogenicity (k<sub>w</sub> round 1; 0.70, 95%\\u2009CI 0.54 to 0.85, round 2; 0.76, 95%\\u2009CI 0.58 to 0.94) and vascularity (k<sub>w</sub> round 1; 0.89, 95%\\u2009CI 0.79 to 0.99, round 2; 0.86, 95%\\u2009CI 0.74 to 0.98). Inter-rater reliability increased from 'substantial' in round 1 (k<sub>w</sub> 0.75, 95%\\u2009CI 0.58 to 0.91) to 'almost perfect' in round 2 (0.81, 95%\\u2009CI 0.63 to 0.99).Intra-rater and inter-rater reliability were 'substantial' to 'almost perfect' when utilising an USI-based criteria to diagnose Achilles tendinopathy. This is the first study to use the continuum model of tendon pathology to develop an USI-based criteria to diagnose tendinopathy.\",\n          \"To investigate repeatability of steep and flat keratometry measurements, as well as astigmatism axis in cohorts with normal range and regular astigmatic such as: eyes following laser-assisted in situ keratomileusis (LASIK) and normal population, as well as cohorts of high and irregular astigmatism such as keratoconic eyes, and keratoconic eyes following corneal collagen cross-linking, employing a novel corneal reflection topography device.Steep and flat keratometry and astigmatism axis measurement repeatability was investigated employing a novel multicolored-spot reflection topographer (Cassini) in four study groups, namely a post myopic LASIK-treated Group A, a keratoconus Group B, a post-CXL keratoconus Group C, and a control Group D of routine healthy patients. Three separate, maps were obtained employing the Cassini, enabling investigation of the intra-individual repeatability by standard deviation. Additionally we investigated in all groups,the Klyce surface irregularity indices for keratoconus, the SAI (surface asymmetry index) and the SRI (surface regularity index).Flat keratometry repeatability was 0.74\\u00b10.89 (0.03 to 5.26) diopters (D) in the LASIK Group A, 0.88\\u00b11.45 (range minimum to maximum, 0.00 to 7.84) D in the keratoconic Group B, and 0.71\\u00b10.94 (0.02 to 6.23) D in the cross-linked Group C. The control Group D had flat keratometry repeatability 0.36\\u00b10.46 (0.00 to 2.71) D. Steep keratometry repeatability was 0.64\\u00b10.82 (0.01 to 4.81) D in the LASIK Group A, 0.89\\u00b11.22 (0.02 to 7.85) D in the keratoconic Group B, and 0.93\\u00b11.12 (0.04 to 5.93) D in the cross-linked Group C. The control Group D had steep keratometry repeatability 0.41\\u00b10.50 (0.00 to 3.51) D. Axis repeatability was 3.45\\u00b11.62\\u00b0 (0.38 to 7.78\\u00b0) for the LASIK Group A, 4.12\\u00b13.17\\u00b0 (0.02 to 12.13\\u00b0) for the keratoconic Group B, and 3.20\\u00b11.99\\u00b0 (0.17 to 8.61\\u00b0) for the cross-linked Group C. The control Group D had axis repeatability 2.16\\u00b11.39\\u00b0 (0.05 to 5.86\\u00b0). The SAI index measurement repeatability was 0.33\\u00b10.40 (0.01 to 2.31) in the post-LASIK Group A, 0.39\\u00b10.75 (0.00 to 7.15) in the keratoconic Group B, and 0.43\\u00b10.56 (0.05 to 3.50) in the keratoconus post-CXL Group C. The control group had SAI measurement repeatability of 0.26\\u00b10.30 (0.00 to 2.39). The SRI index repeatability was 0.22\\u00b10.17 (0.01 to 0.96) for post-LASIK Group A, 0.20\\u00b10.18 (0.00 to 1.07) in keratoconic Group B, and 0.13\\u00b10.09 (0.00 to 0.45) in the keratoconus post-CXL Group C. The control Group D had SRI measurement repeatability of 0.23\\u00b10.16 (0.00 to 0.75).This novel corneal topography device appears to offer very high specificity in estimating corneal keratometry and specific corneal irregularity indices, even in topographically challenging corneas such as LASIK treated, keratoconic, and cross-linked.\"\n        ],\n        \"semantic_type\": \"\",\n        \"description\": \"\"\n      }\n    },\n    {\n      \"column\": \"author_keywords\",\n      \"properties\": {\n        \"dtype\": \"object\",\n        \"semantic_type\": \"\",\n        \"description\": \"\"\n      }\n    }\n  ]\n}"
            }
          },
          "metadata": {},
          "execution_count": 6
        }
      ]
    },
    {
      "cell_type": "code",
      "source": [
        "print(df.loc[0, 'title'], \"\\n\")\n",
        "print(df.loc[0, 'abstract'], \"\\n\")\n",
        "print(df.loc[0, 'author_keywords'])"
      ],
      "metadata": {
        "colab": {
          "base_uri": "https://localhost:8080/"
        },
        "id": "5vznhOb4PPNB",
        "outputId": "56ea0ea7-3bc6-48a7-b82f-9f50d8278126"
      },
      "execution_count": null,
      "outputs": [
        {
          "output_type": "stream",
          "name": "stdout",
          "text": [
            "Exercise and other non-pharmaceutical interventions for cancer-related fatigue in patients during or after cancer treatment: a systematic review incorporating an indirect-comparisons meta-analysis. \n",
            "\n",
            "To assess the relative effects of different types of exercise and other non-pharmaceutical interventions on cancer-related fatigue (CRF) in patients during and after cancer treatment.Systematic review and indirect-comparisons meta-analysis.Articles were searched in PubMed, Cochrane CENTRAL and published meta-analyses.Randomised studies published up to January 2017 evaluating different types of exercise or other non-pharmaceutical interventions to reduce CRF in any cancer type during or after treatment.Risk of bias assessment with PEDro criteria and random effects Bayesian network meta-analysis.We included 245 studies. Comparing the treatments with usual care during cancer treatment, relaxation exercise was the highest ranked intervention with a standardisedmean difference (SMD) of -0.77 (95% Credible Interval (CrI) -1.22 to -0.31), while massage (-0.78; -1.55 to -0.01), cognitive-behavioural therapy combined with physical activity (combined CBT, -0.72; -1.34 to -0.09), combined aerobic and resistance training (-0.67; -1.01 to -0.34), resistance training (-0.53; -1.02 to -0.03), aerobic (-0.53; -0.80 to -0.26) and yoga (-0.51; -1.01 to 0.00) all had moderate-to-large SMDs. After cancer treatment, yoga showed the highest effect (-0.68; -0.93 to -0.43). Combined aerobic and resistance training (-0.50; -0.66 to -0.34), combined CBT (-0.45; -0.70 to -0.21), Tai-Chi (-0.45; -0.84 to -0.06), CBT (-0.42; -0.58 to -0.25), resistance training (-0.35; -0.62 to -0.08) and aerobic (-0.33; -0.51 to -0.16) showed all small-to-moderate SMDs.Patients can choose among different effective types of exercise and non-pharmaceutical interventions to reduce CRF. \n",
            "\n",
            "['cancer related fatigue', 'exercise', 'indirect comparison metaanalysis', 'network metaanalysis', 'nonpharmaceutical interventions']\n"
          ]
        }
      ]
    },
    {
      "cell_type": "code",
      "source": [
        "df.shape"
      ],
      "metadata": {
        "colab": {
          "base_uri": "https://localhost:8080/"
        },
        "id": "PqapMPqD1Dn_",
        "outputId": "1e3253ba-d9ec-41da-968e-b698e342faef"
      },
      "execution_count": null,
      "outputs": [
        {
          "output_type": "execute_result",
          "data": {
            "text/plain": [
              "(1193, 3)"
            ]
          },
          "metadata": {},
          "execution_count": 8
        }
      ]
    },
    {
      "cell_type": "code",
      "source": [
        "df.to_csv('pubmed_papers.csv', index=False)"
      ],
      "metadata": {
        "id": "F70MrxvRKCmc"
      },
      "execution_count": null,
      "outputs": []
    },
    {
      "cell_type": "code",
      "source": [],
      "metadata": {
        "id": "eCERVoHUUbeb"
      },
      "execution_count": null,
      "outputs": []
    }
  ]
}